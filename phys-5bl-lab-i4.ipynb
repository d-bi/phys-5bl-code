{
 "cells": [
  {
   "cell_type": "markdown",
   "metadata": {},
   "source": [
    "# Imports and utility functions"
   ]
  },
  {
   "cell_type": "code",
   "execution_count": 1,
   "metadata": {},
   "outputs": [],
   "source": [
    "import numpy as np\n",
    "import matplotlib.pyplot as plt\n",
    "import scipy.stats as sps"
   ]
  },
  {
   "cell_type": "code",
   "execution_count": 6,
   "metadata": {},
   "outputs": [],
   "source": [
    "def ssd(sample):\n",
    "    var = np.var(sample)\n",
    "    return np.sqrt(var * len(sample) / (len(sample) - 1))\n",
    "\n",
    "def sem(sample):\n",
    "    return ssd(sample) / np.sqrt(len(sample))\n",
    "\n",
    "def paste(arr):\n",
    "    print('mean:', np.mean(arr),\n",
    "          'sd:', ssd(arr),\n",
    "          'sem:', sem(arr))\n",
    "    return np.mean(arr)"
   ]
  },
  {
   "cell_type": "markdown",
   "metadata": {},
   "source": [
    "# Data: Spring lengths"
   ]
  },
  {
   "cell_type": "markdown",
   "metadata": {},
   "source": [
    "## Data"
   ]
  },
  {
   "cell_type": "code",
   "execution_count": 18,
   "metadata": {
    "scrolled": true
   },
   "outputs": [
    {
     "name": "stdout",
     "output_type": "stream",
     "text": [
      "mean: 6.5 sd: 0.0 sem: 0.0\n",
      "mean: 8.591 sd: 0.02302172886644232 sem: 0.01029563014098684\n",
      "mean: 11.55 sd: 0.03535533905932725 sem: 0.01581138830084184\n",
      "mean: 14.530000000000001 sd: 0.04472135954999574 sem: 0.019999999999999973\n",
      "mean: 17.47 sd: 0.05700877125495771 sem: 0.025495097567964285\n",
      "mean: 20.450000000000003 sd: 0.03535533905932788 sem: 0.01581138830084212\n",
      "mean: 23.470000000000002 sd: 0.027386127875258695 sem: 0.012247448713916064\n"
     ]
    }
   ],
   "source": [
    "mean_lengths = []\n",
    "length_errors = []\n",
    "masses = [0, 50, 90, 130, 170, 210, 250]\n",
    "\n",
    "orig_lengths = [6.50, 6.50, 6.50, 6.50, 6.50]\n",
    "mean_lengths += [paste(orig_lengths)]\n",
    "length_errors += [sem(orig_lengths)]\n",
    "\n",
    "m_50 = [8.55, 8.60, 8.605, 8.60, 8.60]\n",
    "mean_lengths += [paste(m_50)]\n",
    "length_errors += [sem(m_50)]\n",
    "\n",
    "m_90 = [11.55, 11.55, 11.60, 11.50, 11.55]\n",
    "mean_lengths += [paste(m_90)]\n",
    "length_errors += [sem(m_90)]\n",
    "\n",
    "m_130 = [14.60, 14.50, 14.50, 14.50, 14.55]\n",
    "mean_lengths += [paste(m_130)]\n",
    "length_errors += [sem(m_130)]\n",
    "\n",
    "m_170 = [17.45, 17.40, 17.50, 17.45, 17.55]\n",
    "mean_lengths += [paste(m_170)]\n",
    "length_errors += [sem(m_170)]\n",
    "\n",
    "m_210 = [20.45, 20.50, 20.45, 20.40, 20.45]\n",
    "mean_lengths += [paste(m_210)]\n",
    "length_errors += [sem(m_210)]\n",
    "\n",
    "m_250 = [23.45, 23.45, 23.50, 23.50, 23.45]\n",
    "mean_lengths += [paste(m_250)]\n",
    "length_errors += [sem(m_250)]\n"
   ]
  },
  {
   "cell_type": "markdown",
   "metadata": {},
   "source": [
    "## Analysis"
   ]
  },
  {
   "cell_type": "code",
   "execution_count": 13,
   "metadata": {
    "scrolled": true
   },
   "outputs": [
    {
     "name": "stdout",
     "output_type": "stream",
     "text": [
      "[0.0, 2.0909999999999993, 5.050000000000001, 8.030000000000001, 10.969999999999999, 13.950000000000003, 16.970000000000002]\n"
     ]
    }
   ],
   "source": [
    "mean_diffs = [ml - mean_lengths[0] for ml in mean_lengths]\n",
    "print(mean_diffs)"
   ]
  },
  {
   "cell_type": "code",
   "execution_count": 22,
   "metadata": {},
   "outputs": [
    {
     "name": "stdout",
     "output_type": "stream",
     "text": [
      "[0.05104899607240085, 0.052440442408507565, 0.053851648071345036, 0.05612486080160929, 0.05244044240850765, 0.05147815070493505]\n"
     ]
    }
   ],
   "source": [
    "alpha_dls = [np.sqrt((length_errors[i+1])**2 + (0.05)**2) for i in range(6)]\n",
    "print(alpha_dls)"
   ]
  },
  {
   "cell_type": "code",
   "execution_count": 17,
   "metadata": {
    "scrolled": true
   },
   "outputs": [
    {
     "name": "stdout",
     "output_type": "stream",
     "text": [
      "[0.0, 0.49000000000000005, 0.8820000000000001, 1.274, 1.6660000000000001, 2.058, 2.45]\n"
     ]
    }
   ],
   "source": [
    "g_forces = [m * 9.800 / 1000 for m in masses]\n",
    "print(g_forces)"
   ]
  },
  {
   "cell_type": "code",
   "execution_count": 19,
   "metadata": {},
   "outputs": [
    {
     "name": "stdout",
     "output_type": "stream",
     "text": [
      "[0.0, 0.01029563014098684, 0.01581138830084184, 0.019999999999999973, 0.025495097567964285, 0.01581138830084212, 0.012247448713916064]\n"
     ]
    }
   ],
   "source": [
    "print(length_errors)"
   ]
  },
  {
   "cell_type": "code",
   "execution_count": 16,
   "metadata": {},
   "outputs": [
    {
     "name": "stdout",
     "output_type": "stream",
     "text": [
      "[23.433763749402207, 17.465346534653463, 15.865504358655041, 15.186873290793075, 14.752688172043008, 14.437242192103712]\n",
      "mean: 16.856903049608416 sd: 3.3964584441752477 sem: 1.3865983534660968\n"
     ]
    }
   ],
   "source": [
    "k_vals = [(0.1 * masses[i] * 9.8 / mean_diffs[i]) for i in range(1, 7)]\n",
    "print(k_vals)\n",
    "avg_k = paste(k_vals)"
   ]
  },
  {
   "cell_type": "code",
   "execution_count": null,
   "metadata": {},
   "outputs": [],
   "source": [
    "alpha_k = [k_vals[i] * sqrt((alpha_m/m)**2 + ()**2) for i in range(6)]"
   ]
  },
  {
   "cell_type": "code",
   "execution_count": 5,
   "metadata": {},
   "outputs": [
    {
     "data": {
      "text/plain": [
       "'±'"
      ]
     },
     "execution_count": 5,
     "metadata": {},
     "output_type": "execute_result"
    }
   ],
   "source": [
    "'±'"
   ]
  },
  {
   "cell_type": "code",
   "execution_count": null,
   "metadata": {},
   "outputs": [],
   "source": []
  }
 ],
 "metadata": {
  "kernelspec": {
   "display_name": "Python 3",
   "language": "python",
   "name": "python3"
  },
  "language_info": {
   "codemirror_mode": {
    "name": "ipython",
    "version": 3
   },
   "file_extension": ".py",
   "mimetype": "text/x-python",
   "name": "python",
   "nbconvert_exporter": "python",
   "pygments_lexer": "ipython3",
   "version": "3.8.1"
  },
  "toc": {
   "base_numbering": 1,
   "nav_menu": {},
   "number_sections": true,
   "sideBar": true,
   "skip_h1_title": false,
   "title_cell": "Table of Contents",
   "title_sidebar": "Contents",
   "toc_cell": false,
   "toc_position": {},
   "toc_section_display": true,
   "toc_window_display": false
  },
  "varInspector": {
   "cols": {
    "lenName": 16,
    "lenType": 16,
    "lenVar": 40
   },
   "kernels_config": {
    "python": {
     "delete_cmd_postfix": "",
     "delete_cmd_prefix": "del ",
     "library": "var_list.py",
     "varRefreshCmd": "print(var_dic_list())"
    },
    "r": {
     "delete_cmd_postfix": ") ",
     "delete_cmd_prefix": "rm(",
     "library": "var_list.r",
     "varRefreshCmd": "cat(var_dic_list()) "
    }
   },
   "types_to_exclude": [
    "module",
    "function",
    "builtin_function_or_method",
    "instance",
    "_Feature"
   ],
   "window_display": false
  }
 },
 "nbformat": 4,
 "nbformat_minor": 4
}
