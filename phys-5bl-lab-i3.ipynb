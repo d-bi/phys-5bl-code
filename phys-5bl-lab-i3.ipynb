{
 "cells": [
  {
   "cell_type": "markdown",
   "metadata": {},
   "source": [
    "# Imports and utility functions"
   ]
  },
  {
   "cell_type": "code",
   "execution_count": 2,
   "metadata": {},
   "outputs": [],
   "source": [
    "import numpy as np\n",
    "import matplotlib.pyplot as plt\n",
    "import scipy.stats as sps"
   ]
  },
  {
   "cell_type": "code",
   "execution_count": 1,
   "metadata": {},
   "outputs": [],
   "source": [
    "def ssd(sample):\n",
    "    var = np.var(sample)\n",
    "    return np.sqrt(var * len(sample) / (len(sample) - 1))\n",
    "\n",
    "def sem(sample):\n",
    "    return ssd(sample) / np.sqrt(len(sample))\n",
    "\n",
    "def paste(arr):\n",
    "    print('mean:', np.mean(arr),\n",
    "          'sd:', ssd(arr),\n",
    "          'sem:', sem(arr))"
   ]
  },
  {
   "cell_type": "markdown",
   "metadata": {},
   "source": [
    "# Experiment 1: Tile Lengths"
   ]
  },
  {
   "cell_type": "markdown",
   "metadata": {},
   "source": [
    "## Data"
   ]
  },
  {
   "cell_type": "code",
   "execution_count": 2,
   "metadata": {
    "scrolled": false
   },
   "outputs": [
    {
     "name": "stdout",
     "output_type": "stream",
     "text": [
      "mean: 6.1287 sd: 0.002820165479778171 sem: 0.0014100827398890855\n",
      "mean: 4.875 sd: 0.11902380714238091 sem: 0.059511903571190454\n",
      "mean: 6.050000000000001 sd: 0.09128709291752768 sem: 0.04564354645876384\n"
     ]
    }
   ],
   "source": [
    "mid_tile = [6.1294, 6.1265, 6.1324, 6.1265]\n",
    "paste(mid_tile)\n",
    "\n",
    "e1_tile = [5.00, 4.75, 4.95, 4.80]\n",
    "paste(e1_tile)\n",
    "\n",
    "e2_tile = [5.95, 6.15, 6.00, 6.10]\n",
    "paste(e2_tile)\n"
   ]
  },
  {
   "cell_type": "markdown",
   "metadata": {},
   "source": [
    "## Analysis"
   ]
  },
  {
   "cell_type": "code",
   "execution_count": 6,
   "metadata": {},
   "outputs": [
    {
     "name": "stdout",
     "output_type": "stream",
     "text": [
      "115.1129\n",
      "0.07873771861905368\n"
     ]
    }
   ],
   "source": [
    "n=17\n",
    "L_width = np.mean(e1_tile) + np.mean(e2_tile) + n*np.mean(mid_tile)\n",
    "alpha_width = np.sqrt((sem(e1_tile))**2 + (sem(e2_tile))**2 + (n * sem(mid_tile))**2)\n",
    "print(L_width)\n",
    "print(alpha_width)"
   ]
  },
  {
   "cell_type": "markdown",
   "metadata": {},
   "source": [
    "## Experiment 3: Fall Times"
   ]
  },
  {
   "cell_type": "markdown",
   "metadata": {},
   "source": [
    "## Data"
   ]
  },
  {
   "cell_type": "code",
   "execution_count": 4,
   "metadata": {},
   "outputs": [
    {
     "name": "stdout",
     "output_type": "stream",
     "text": [
      "10\n",
      "mean: 0.254 sd: 0.042216373863966844 sem: 0.013349989596333859\n"
     ]
    }
   ],
   "source": [
    "fall_times = [0.24, 0.25, 0.25, 0.29, 0.25, 0.34, 0.21, 0.21, 0.21, 0.29]\n",
    "print(len(fall_times))\n",
    "paste(fall_times)"
   ]
  },
  {
   "cell_type": "markdown",
   "metadata": {},
   "source": [
    "## Analysis"
   ]
  },
  {
   "cell_type": "code",
   "execution_count": 11,
   "metadata": {},
   "outputs": [
    {
     "name": "stdout",
     "output_type": "stream",
     "text": [
      "8.649017298034597\n",
      "0.6812013505018991\n"
     ]
    }
   ],
   "source": [
    "h = 0.279\n",
    "g = (2*h)/np.mean(fall_times)**2\n",
    "print(g)\n",
    "alpha_g = g * np.sqrt((0.0005/0.279)**2 + (2*0.01/np.mean(fall_times))**2)\n",
    "print(alpha_g)"
   ]
  },
  {
   "cell_type": "code",
   "execution_count": 6,
   "metadata": {},
   "outputs": [
    {
     "data": {
      "text/plain": [
       "'±'"
      ]
     },
     "execution_count": 6,
     "metadata": {},
     "output_type": "execute_result"
    }
   ],
   "source": [
    "'±'"
   ]
  },
  {
   "cell_type": "code",
   "execution_count": null,
   "metadata": {},
   "outputs": [],
   "source": []
  }
 ],
 "metadata": {
  "kernelspec": {
   "display_name": "Python 3",
   "language": "python",
   "name": "python3"
  },
  "language_info": {
   "codemirror_mode": {
    "name": "ipython",
    "version": 3
   },
   "file_extension": ".py",
   "mimetype": "text/x-python",
   "name": "python",
   "nbconvert_exporter": "python",
   "pygments_lexer": "ipython3",
   "version": "3.8.1"
  },
  "toc": {
   "base_numbering": 1,
   "nav_menu": {},
   "number_sections": true,
   "sideBar": true,
   "skip_h1_title": false,
   "title_cell": "Table of Contents",
   "title_sidebar": "Contents",
   "toc_cell": false,
   "toc_position": {},
   "toc_section_display": true,
   "toc_window_display": false
  },
  "varInspector": {
   "cols": {
    "lenName": 16,
    "lenType": 16,
    "lenVar": 40
   },
   "kernels_config": {
    "python": {
     "delete_cmd_postfix": "",
     "delete_cmd_prefix": "del ",
     "library": "var_list.py",
     "varRefreshCmd": "print(var_dic_list())"
    },
    "r": {
     "delete_cmd_postfix": ") ",
     "delete_cmd_prefix": "rm(",
     "library": "var_list.r",
     "varRefreshCmd": "cat(var_dic_list()) "
    }
   },
   "types_to_exclude": [
    "module",
    "function",
    "builtin_function_or_method",
    "instance",
    "_Feature"
   ],
   "window_display": false
  }
 },
 "nbformat": 4,
 "nbformat_minor": 4
}
